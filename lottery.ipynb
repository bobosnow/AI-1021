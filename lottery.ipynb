{
 "cells": [
  {
   "cell_type": "code",
   "execution_count": 20,
   "metadata": {},
   "outputs": [
    {
     "name": "stdout",
     "output_type": "stream",
     "text": [
      "開出順序：05   28   39   17   18   30   \n",
      "大小順序：05   17   18   28   30   39   \n",
      "第二區：13 \n"
     ]
    }
   ],
   "source": [
    "import requests\n",
    "from bs4 import BeautifulSoup\n",
    "\n",
    "url = 'http://www.taiwanlottery.com.tw/'\n",
    "html = requests.get(url)\n",
    "sp = BeautifulSoup(html.text, 'html.parser')\n",
    "#print(sp.prettify())\n",
    "data1 = sp.select(\"#rightdown\")\n",
    "#print(data1)\n",
    "\n",
    "data2 = data1[0].find_all('div', {'class':'contents_box02'})\n",
    "#print(data2)\n",
    "\n",
    "\n",
    "data3 = data2[2].find_all('div', {'class':'ball_tx ball_yellow'})\n",
    "#print(data3)\n",
    "\n",
    "# 威力彩號碼\n",
    "print(\"開出順序：\",end=\"\")\n",
    "for n in range(0,6):\n",
    "    print(data3[n].text,end=\"  \") \n",
    "\n",
    "print(\"\\n大小順序：\",end=\"\")    \n",
    "for n in range(6,len(data3)):\n",
    "    print(data3[n].text,end=\"  \")\n",
    "     \n",
    "## 第二區\n",
    "red = data2[2].find('div', {'class':'ball_red'})        \n",
    "print(\"\\n第二區：{}\".format(red.text)) "
   ]
  },
  {
   "cell_type": "code",
   "execution_count": null,
   "metadata": {},
   "outputs": [],
   "source": []
  },
  {
   "cell_type": "code",
   "execution_count": null,
   "metadata": {},
   "outputs": [],
   "source": []
  }
 ],
 "metadata": {
  "kernelspec": {
   "display_name": "Python 3",
   "language": "python",
   "name": "python3"
  }
 },
 "nbformat": 4,
 "nbformat_minor": 2
}
