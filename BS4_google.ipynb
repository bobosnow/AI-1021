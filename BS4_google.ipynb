{
 "cells": [
  {
   "cell_type": "code",
   "execution_count": 2,
   "metadata": {},
   "outputs": [
    {
     "name": "stdout",
     "output_type": "stream",
     "text": [
      "標題：數位時代｜台灣最具影響力的科技財經媒體www.bnext.com.tw\n",
      "網址：/url?q=https://www.bnext.com.tw/&sa=U&ved=2ahUKEwijor_dm8XsAhUHGKYKHZHdDVoQFjAAegQICxAB&usg=AOvVaw3WNoFyyFssKubUzZAdK2uK\n",
      "標題：數位- 維基百科，自由的百科全書 - Wikipediazh.wikipedia.org › zh-tw › 數碼\n",
      "網址：/url?q=https://zh.wikipedia.org/zh-tw/%25E6%2595%25B8%25E7%25A2%25BC&sa=U&ved=2ahUKEwijor_dm8XsAhUHGKYKHZHdDVoQFjABegQIAhAB&usg=AOvVaw1i_yC2lG3XDFABHCPtUQM1\n",
      "標題：數位學習平台 - 國立勤益科技大學elearning.ncut.edu.tw\n",
      "網址：/url?q=https://elearning.ncut.edu.tw/&sa=U&ved=2ahUKEwijor_dm8XsAhUHGKYKHZHdDVoQFjACegQIBhAB&usg=AOvVaw1WyZrrZdfP_DLK97tO5g4w\n",
      "標題：國立宜蘭大學數位學習園區eschool.niu.edu.tw\n",
      "網址：/url?q=http://eschool.niu.edu.tw/&sa=U&ved=2ahUKEwijor_dm8XsAhUHGKYKHZHdDVoQFjADegQICBAB&usg=AOvVaw2b0SC5MDd30Xj5ZIO7Yhn3\n",
      "標題：數位學習網 - 國立虎尾科技大學www.nfu.edu.tw › elearning\n",
      "網址：/url?q=https://www.nfu.edu.tw/zh/elearning&sa=U&ved=2ahUKEwijor_dm8XsAhUHGKYKHZHdDVoQFjAEegQICRAB&usg=AOvVaw0qV9EwglDmb1Dop2iL8WSC\n",
      "標題：屏東科技大學數位學習平台3.5版moodle.npust.edu.tw\n",
      "網址：/url?q=https://moodle.npust.edu.tw/&sa=U&ved=2ahUKEwijor_dm8XsAhUHGKYKHZHdDVoQFjAFegQIBxAB&usg=AOvVaw33cmpo2NMUvRxWFmyuSYz7\n",
      "標題：數位教學平臺moodle.nhu.edu.tw\n",
      "網址：/url?q=http://moodle.nhu.edu.tw/&sa=U&ved=2ahUKEwijor_dm8XsAhUHGKYKHZHdDVoQFjAPegQIBBAB&usg=AOvVaw3onVB5PRe5XIPGcc6R1X9y\n",
      "標題：星巴克數位體驗event.12cm.com.tw › starbucks\n",
      "網址：/url?q=https://event.12cm.com.tw/starbucks/&sa=U&ved=2ahUKEwijor_dm8XsAhUHGKYKHZHdDVoQFjAQegQIAxAB&usg=AOvVaw2cnryE4Bv2mQHxAQpfgmNj\n",
      "標題：國立政治大學數位學習平台wm5.nccu.edu.tw\n",
      "網址：/url?q=https://wm5.nccu.edu.tw/&sa=U&ved=2ahUKEwijor_dm8XsAhUHGKYKHZHdDVoQFjARegQIDBAB&usg=AOvVaw1Eoh_MkmBAlfI05r-n94Bt\n",
      "標題：數位行銷基礎知識完整版- 數位學程 - Google Digital Garagelearndigital.withgoogle.com › digitalgarage-tw › course › digital-marketing\n",
      "網址：/url?q=https://learndigital.withgoogle.com/digitalgarage-tw/course/digital-marketing&sa=U&ved=2ahUKEwijor_dm8XsAhUHGKYKHZHdDVoQFjASegQIChAB&usg=AOvVaw09Rr_i1hZsw2iW_6axHk1b\n"
     ]
    }
   ],
   "source": [
    "# Google搜尋\n",
    "import requests\n",
    "from bs4 import BeautifulSoup\n",
    "\n",
    "# Google 搜尋 URL\n",
    "google_url = 'https://www.google.com.tw/search'\n",
    "\n",
    "# 查詢參數\n",
    "my_params = {'q': '數位'}\n",
    "\n",
    "# 下載 Google 搜尋結果\n",
    "r = requests.get(google_url, params = my_params)\n",
    "\n",
    "# 確認是否下載成功\n",
    "if r.status_code == requests.codes.ok:\n",
    "  # 以 BeautifulSoup 解析 HTML 原始碼\n",
    "  soup = BeautifulSoup(r.text, 'html.parser')\n",
    "\n",
    "  # 觀察 HTML 原始碼\n",
    "  #print(soup.prettify())\n",
    "\n",
    "  # 以 CSS 的選擇器來抓取 Google 的搜尋結果\n",
    "  items = soup.select('div.kCrYT > a[href^=\"/url\"]')\n",
    " \n",
    "  for i in items:\n",
    "    # 標題\n",
    "    print(\"標題：\" + i.text)\n",
    "    # 網址\n",
    "    print(\"網址：\" + i.get('href'))"
   ]
  },
  {
   "cell_type": "code",
   "execution_count": null,
   "metadata": {},
   "outputs": [],
   "source": []
  }
 ],
 "metadata": {
  "kernelspec": {
   "display_name": "Python 3",
   "language": "python",
   "name": "python3"
  },
  "language_info": {
   "codemirror_mode": {
    "name": "ipython",
    "version": 3
   },
   "file_extension": ".py",
   "mimetype": "text/x-python",
   "name": "python",
   "nbconvert_exporter": "python",
   "pygments_lexer": "ipython3",
   "version": "3.6.5"
  }
 },
 "nbformat": 4,
 "nbformat_minor": 2
}
